{
 "cells": [
  {
   "cell_type": "code",
   "execution_count": 1,
   "metadata": {},
   "outputs": [],
   "source": [
    "import serial"
   ]
  },
  {
   "cell_type": "code",
   "execution_count": 9,
   "metadata": {},
   "outputs": [
    {
     "name": "stdout",
     "output_type": "stream",
     "text": [
      "Port: /dev/ttyUSB2, Description: Novatel GPS Receiver\n",
      "Port: /dev/ttyUSB1, Description: Novatel GPS Receiver\n",
      "Port: /dev/ttyUSB0, Description: Novatel GPS Receiver\n",
      "Port: /dev/ttyACM1, Description: ttyACM1\n",
      "Port: /dev/ttyACM0, Description: SFE 9DOF-D21\n",
      "Port: /dev/ttyAMA0, Description: ttyAMA0\n"
     ]
    }
   ],
   "source": [
    "import serial.tools.list_ports\n",
    "\n",
    "# Get a list of all available ports\n",
    "ports = serial.tools.list_ports.comports()\n",
    "\n",
    "# Print the details of each port\n",
    "for port in ports:\n",
    "    print(f\"Port: {port.device}, Description: {port.description}\")\n"
   ]
  },
  {
   "cell_type": "code",
   "execution_count": 20,
   "metadata": {},
   "outputs": [],
   "source": [
    "def find_9dof_port():\n",
    "        # Get a list of all available ports\n",
    "        ports = serial.tools.list_ports.comports()\n",
    "\n",
    "        # Iterate through each port and check if the description matches the 9DOF sensor\n",
    "        for port in ports:\n",
    "            if \"9DOF\" in port.description:\n",
    "                return serial.Serial(port.device, 115200)\n",
    "                \n"
   ]
  },
  {
   "cell_type": "code",
   "execution_count": 23,
   "metadata": {},
   "outputs": [
    {
     "ename": "KeyboardInterrupt",
     "evalue": "",
     "output_type": "error",
     "traceback": [
      "\u001b[0;31m---------------------------------------------------------------------------\u001b[0m",
      "\u001b[0;31mKeyboardInterrupt\u001b[0m                         Traceback (most recent call last)",
      "Cell \u001b[0;32mIn[23], line 3\u001b[0m\n\u001b[1;32m      1\u001b[0m port \u001b[39m=\u001b[39m find_9dof_port()\n\u001b[1;32m      2\u001b[0m \u001b[39mwhile\u001b[39;00m \u001b[39mTrue\u001b[39;00m \u001b[39mand\u001b[39;00m port:\n\u001b[0;32m----> 3\u001b[0m     \u001b[39mprint\u001b[39m(port\u001b[39m.\u001b[39;49mreadall())\n",
      "File \u001b[0;32m/usr/lib/python3/dist-packages/serial/serialposix.py:483\u001b[0m, in \u001b[0;36mSerial.read\u001b[0;34m(self, size)\u001b[0m\n\u001b[1;32m    481\u001b[0m \u001b[39mwhile\u001b[39;00m \u001b[39mlen\u001b[39m(read) \u001b[39m<\u001b[39m size:\n\u001b[1;32m    482\u001b[0m     \u001b[39mtry\u001b[39;00m:\n\u001b[0;32m--> 483\u001b[0m         ready, _, _ \u001b[39m=\u001b[39m select\u001b[39m.\u001b[39;49mselect([\u001b[39mself\u001b[39;49m\u001b[39m.\u001b[39;49mfd, \u001b[39mself\u001b[39;49m\u001b[39m.\u001b[39;49mpipe_abort_read_r], [], [], timeout\u001b[39m.\u001b[39;49mtime_left())\n\u001b[1;32m    484\u001b[0m         \u001b[39mif\u001b[39;00m \u001b[39mself\u001b[39m\u001b[39m.\u001b[39mpipe_abort_read_r \u001b[39min\u001b[39;00m ready:\n\u001b[1;32m    485\u001b[0m             os\u001b[39m.\u001b[39mread(\u001b[39mself\u001b[39m\u001b[39m.\u001b[39mpipe_abort_read_r, \u001b[39m1000\u001b[39m)\n",
      "\u001b[0;31mKeyboardInterrupt\u001b[0m: "
     ]
    }
   ],
   "source": [
    "port = find_9dof_port()\n",
    "while True and port:\n",
    "    print(port.readall())"
   ]
  },
  {
   "cell_type": "code",
   "execution_count": null,
   "metadata": {},
   "outputs": [],
   "source": []
  }
 ],
 "metadata": {
  "kernelspec": {
   "display_name": "Python 3",
   "language": "python",
   "name": "python3"
  },
  "language_info": {
   "codemirror_mode": {
    "name": "ipython",
    "version": 3
   },
   "file_extension": ".py",
   "mimetype": "text/x-python",
   "name": "python",
   "nbconvert_exporter": "python",
   "pygments_lexer": "ipython3",
   "version": "3.8.10"
  },
  "orig_nbformat": 4
 },
 "nbformat": 4,
 "nbformat_minor": 2
}
