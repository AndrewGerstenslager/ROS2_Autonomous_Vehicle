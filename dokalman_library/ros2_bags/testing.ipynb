{
 "cells": [
  {
   "cell_type": "code",
   "execution_count": 1,
   "metadata": {},
   "outputs": [],
   "source": [
    "from pathlib import Path\n",
    "\n",
    "from rosbags.dataframe import get_dataframe\n",
    "from rosbags.highlevel import AnyReader\n",
    "\n",
    "import matplotlib.pyplot as plt\n",
    "import numpy as np\n",
    "import cv2"
   ]
  },
  {
   "cell_type": "code",
   "execution_count": 2,
   "metadata": {},
   "outputs": [],
   "source": [
    "dataframe = None\n",
    "with AnyReader([Path('my_bag')]) as reader:\n",
    "    dataframe = get_dataframe(reader, '/cmd_vel', ['linear', 'angular'])"
   ]
  },
  {
   "cell_type": "code",
   "execution_count": 31,
   "metadata": {},
   "outputs": [],
   "source": [
    "dataframe = dataframe.reset_index()"
   ]
  },
  {
   "cell_type": "code",
   "execution_count": 33,
   "metadata": {},
   "outputs": [
    {
     "data": {
      "text/html": [
       "<div>\n",
       "<style scoped>\n",
       "    .dataframe tbody tr th:only-of-type {\n",
       "        vertical-align: middle;\n",
       "    }\n",
       "\n",
       "    .dataframe tbody tr th {\n",
       "        vertical-align: top;\n",
       "    }\n",
       "\n",
       "    .dataframe thead th {\n",
       "        text-align: right;\n",
       "    }\n",
       "</style>\n",
       "<table border=\"1\" class=\"dataframe\">\n",
       "  <thead>\n",
       "    <tr style=\"text-align: right;\">\n",
       "      <th></th>\n",
       "      <th>index</th>\n",
       "      <th>linear</th>\n",
       "      <th>angular</th>\n",
       "    </tr>\n",
       "  </thead>\n",
       "  <tbody>\n",
       "    <tr>\n",
       "      <th>0</th>\n",
       "      <td>2023-07-28 22:49:27.327648020</td>\n",
       "      <td>geometry_msgs__msg__Vector3(x=-0.0, y=0.0, z=0...</td>\n",
       "      <td>geometry_msgs__msg__Vector3(x=0.0, y=0.0, z=-0...</td>\n",
       "    </tr>\n",
       "    <tr>\n",
       "      <th>1</th>\n",
       "      <td>2023-07-28 22:49:27.327740108</td>\n",
       "      <td>geometry_msgs__msg__Vector3(x=-0.0, y=0.0, z=0...</td>\n",
       "      <td>geometry_msgs__msg__Vector3(x=0.0, y=0.0, z=-0...</td>\n",
       "    </tr>\n",
       "    <tr>\n",
       "      <th>2</th>\n",
       "      <td>2023-07-28 22:49:27.327759903</td>\n",
       "      <td>geometry_msgs__msg__Vector3(x=-0.0, y=0.0, z=0...</td>\n",
       "      <td>geometry_msgs__msg__Vector3(x=0.0, y=0.0, z=-0...</td>\n",
       "    </tr>\n",
       "    <tr>\n",
       "      <th>3</th>\n",
       "      <td>2023-07-28 22:49:27.327772303</td>\n",
       "      <td>geometry_msgs__msg__Vector3(x=-0.0, y=0.0, z=0...</td>\n",
       "      <td>geometry_msgs__msg__Vector3(x=0.0, y=0.0, z=-0...</td>\n",
       "    </tr>\n",
       "    <tr>\n",
       "      <th>4</th>\n",
       "      <td>2023-07-28 22:49:27.327785326</td>\n",
       "      <td>geometry_msgs__msg__Vector3(x=-0.0, y=0.0, z=0...</td>\n",
       "      <td>geometry_msgs__msg__Vector3(x=0.0, y=0.0, z=-0...</td>\n",
       "    </tr>\n",
       "  </tbody>\n",
       "</table>\n",
       "</div>"
      ],
      "text/plain": [
       "                          index  \\\n",
       "0 2023-07-28 22:49:27.327648020   \n",
       "1 2023-07-28 22:49:27.327740108   \n",
       "2 2023-07-28 22:49:27.327759903   \n",
       "3 2023-07-28 22:49:27.327772303   \n",
       "4 2023-07-28 22:49:27.327785326   \n",
       "\n",
       "                                              linear  \\\n",
       "0  geometry_msgs__msg__Vector3(x=-0.0, y=0.0, z=0...   \n",
       "1  geometry_msgs__msg__Vector3(x=-0.0, y=0.0, z=0...   \n",
       "2  geometry_msgs__msg__Vector3(x=-0.0, y=0.0, z=0...   \n",
       "3  geometry_msgs__msg__Vector3(x=-0.0, y=0.0, z=0...   \n",
       "4  geometry_msgs__msg__Vector3(x=-0.0, y=0.0, z=0...   \n",
       "\n",
       "                                             angular  \n",
       "0  geometry_msgs__msg__Vector3(x=0.0, y=0.0, z=-0...  \n",
       "1  geometry_msgs__msg__Vector3(x=0.0, y=0.0, z=-0...  \n",
       "2  geometry_msgs__msg__Vector3(x=0.0, y=0.0, z=-0...  \n",
       "3  geometry_msgs__msg__Vector3(x=0.0, y=0.0, z=-0...  \n",
       "4  geometry_msgs__msg__Vector3(x=0.0, y=0.0, z=-0...  "
      ]
     },
     "execution_count": 33,
     "metadata": {},
     "output_type": "execute_result"
    }
   ],
   "source": [
    "dataframe.head()"
   ]
  },
  {
   "cell_type": "code",
   "execution_count": 44,
   "metadata": {},
   "outputs": [],
   "source": [
    "index = 50"
   ]
  },
  {
   "cell_type": "code",
   "execution_count": 45,
   "metadata": {},
   "outputs": [
    {
     "data": {
      "text/plain": [
       "1.0"
      ]
     },
     "execution_count": 45,
     "metadata": {},
     "output_type": "execute_result"
    }
   ],
   "source": [
    "\n",
    "dataframe.loc[index, 'linear'].x"
   ]
  },
  {
   "cell_type": "code",
   "execution_count": 46,
   "metadata": {},
   "outputs": [
    {
     "data": {
      "text/plain": [
       "-0.0"
      ]
     },
     "execution_count": 46,
     "metadata": {},
     "output_type": "execute_result"
    }
   ],
   "source": [
    "dataframe.loc[index, 'angular'].z"
   ]
  },
  {
   "cell_type": "code",
   "execution_count": 9,
   "metadata": {},
   "outputs": [],
   "source": [
    "dataframe2 = None\n",
    "with AnyReader([Path('my_bag')]) as reader:\n",
    "    dataframe2 = get_dataframe(reader, '/camera/image_raw', ['data'])"
   ]
  },
  {
   "cell_type": "code",
   "execution_count": 47,
   "metadata": {},
   "outputs": [
    {
     "data": {
      "text/html": [
       "<div>\n",
       "<style scoped>\n",
       "    .dataframe tbody tr th:only-of-type {\n",
       "        vertical-align: middle;\n",
       "    }\n",
       "\n",
       "    .dataframe tbody tr th {\n",
       "        vertical-align: top;\n",
       "    }\n",
       "\n",
       "    .dataframe thead th {\n",
       "        text-align: right;\n",
       "    }\n",
       "</style>\n",
       "<table border=\"1\" class=\"dataframe\">\n",
       "  <thead>\n",
       "    <tr style=\"text-align: right;\">\n",
       "      <th></th>\n",
       "      <th>index</th>\n",
       "      <th>data</th>\n",
       "    </tr>\n",
       "  </thead>\n",
       "  <tbody>\n",
       "    <tr>\n",
       "      <th>0</th>\n",
       "      <td>2023-07-28 22:49:27.333034126</td>\n",
       "      <td>[175, 175, 175, 175, 175, 175, 175, 175, 175, ...</td>\n",
       "    </tr>\n",
       "    <tr>\n",
       "      <th>1</th>\n",
       "      <td>2023-07-28 22:49:27.353144365</td>\n",
       "      <td>[175, 175, 175, 175, 175, 175, 175, 175, 175, ...</td>\n",
       "    </tr>\n",
       "    <tr>\n",
       "      <th>2</th>\n",
       "      <td>2023-07-28 22:49:27.363090335</td>\n",
       "      <td>[175, 175, 175, 175, 175, 175, 175, 175, 175, ...</td>\n",
       "    </tr>\n",
       "    <tr>\n",
       "      <th>3</th>\n",
       "      <td>2023-07-28 22:49:27.364273769</td>\n",
       "      <td>[175, 175, 175, 175, 175, 175, 175, 175, 175, ...</td>\n",
       "    </tr>\n",
       "    <tr>\n",
       "      <th>4</th>\n",
       "      <td>2023-07-28 22:49:27.406454495</td>\n",
       "      <td>[175, 175, 175, 175, 175, 175, 175, 175, 175, ...</td>\n",
       "    </tr>\n",
       "  </tbody>\n",
       "</table>\n",
       "</div>"
      ],
      "text/plain": [
       "                          index  \\\n",
       "0 2023-07-28 22:49:27.333034126   \n",
       "1 2023-07-28 22:49:27.353144365   \n",
       "2 2023-07-28 22:49:27.363090335   \n",
       "3 2023-07-28 22:49:27.364273769   \n",
       "4 2023-07-28 22:49:27.406454495   \n",
       "\n",
       "                                                data  \n",
       "0  [175, 175, 175, 175, 175, 175, 175, 175, 175, ...  \n",
       "1  [175, 175, 175, 175, 175, 175, 175, 175, 175, ...  \n",
       "2  [175, 175, 175, 175, 175, 175, 175, 175, 175, ...  \n",
       "3  [175, 175, 175, 175, 175, 175, 175, 175, 175, ...  \n",
       "4  [175, 175, 175, 175, 175, 175, 175, 175, 175, ...  "
      ]
     },
     "execution_count": 47,
     "metadata": {},
     "output_type": "execute_result"
    }
   ],
   "source": [
    "dataframe2.head()"
   ]
  },
  {
   "cell_type": "code",
   "execution_count": 19,
   "metadata": {},
   "outputs": [],
   "source": [
    "dataframe2 = dataframe2.reset_index()"
   ]
  },
  {
   "cell_type": "code",
   "execution_count": 32,
   "metadata": {},
   "outputs": [
    {
     "data": {
      "image/png": "[encoded data removed]",
      "text/plain": [
       "<Figure size 640x480 with 1 Axes>"
      ]
     },
     "metadata": {},
     "output_type": "display_data"
    }
   ],
   "source": [
    "image_data = dataframe2.loc[0, 'data']\n",
    "image_data\n",
    "image_shape = (480, 640, 3)\n",
    "dtype = np.uint8  # common for grayscale images in the range 0-255\n",
    "\n",
    "image = np.frombuffer(image_data, dtype=dtype)\n",
    "image = np.reshape(image, image_shape)\n",
    "gray_image = cv2.cvtColor(image, cv2.COLOR_RGB2GRAY)\n",
    "# Now we can display the image\n",
    "plt.imshow(gray_image, cmap='gray')\n",
    "plt.show()"
   ]
  },
  {
   "cell_type": "code",
   "execution_count": 49,
   "metadata": {},
   "outputs": [
    {
     "data": {
      "text/plain": [
       "(89, 3)"
      ]
     },
     "execution_count": 49,
     "metadata": {},
     "output_type": "execute_result"
    }
   ],
   "source": [
    "dataframe.shape"
   ]
  },
  {
   "cell_type": "code",
   "execution_count": 50,
   "metadata": {},
   "outputs": [
    {
     "data": {
      "text/plain": [
       "(85, 2)"
      ]
     },
     "execution_count": 50,
     "metadata": {},
     "output_type": "execute_result"
    }
   ],
   "source": [
    "dataframe2.shape"
   ]
  },
  {
   "cell_type": "code",
   "execution_count": 51,
   "metadata": {},
   "outputs": [],
   "source": [
    "import pandas as pd\n",
    "import numpy as np\n",
    "import cv2\n",
    "from sklearn.model_selection import train_test_split\n",
    "\n",
    "\n",
    "def load_data(df):\n",
    "    images = []\n",
    "    velocities = []\n",
    "\n",
    "    for i in range(len(df)):\n",
    "        # Get velocity data\n",
    "        linear_velocity = df.loc[i, 'linear'].x\n",
    "        angular_velocity = df.loc[i, 'angular'].z\n",
    "        velocities.append([linear_velocity, angular_velocity])\n",
    "\n",
    "        # Get image data\n",
    "        image_data = df.loc[i, 'data']\n",
    "        image_shape = (480, 640, 3)\n",
    "        dtype = np.uint8  \n",
    "\n",
    "        image = np.frombuffer(image_data, dtype=dtype)\n",
    "        image = np.reshape(image, image_shape)\n",
    "        gray_image = cv2.cvtColor(image, cv2.COLOR_RGB2GRAY)\n",
    "        images.append(gray_image)\n",
    "\n",
    "    # Normalize image pixel values to [0, 1]\n",
    "    images = np.array(images, dtype=\"float\") / 255.0\n",
    "    velocities = np.array(velocities, dtype=\"float\")\n",
    "\n",
    "    return images, velocities\n",
    "\n",
    "df = dataframe.merge(dataframe2, left_index=True, right_index=True, how='inner')\n",
    "\n",
    "\n",
    "images, velocities = load_data(df)\n",
    "\n",
    "# Split the data into train and test sets\n",
    "X_train, X_test, y_train, y_test = train_test_split(images, velocities, test_size=0.2, random_state=42)\n"
   ]
  },
  {
   "cell_type": "code",
   "execution_count": 53,
   "metadata": {},
   "outputs": [
    {
     "name": "stderr",
     "output_type": "stream",
     "text": [
      "2023-07-28 23:59:46.629396: I tensorflow/core/util/port.cc:110] oneDNN custom operations are on. You may see slightly different numerical results due to floating-point round-off errors from different computation orders. To turn them off, set the environment variable `TF_ENABLE_ONEDNN_OPTS=0`.\n",
      "2023-07-28 23:59:46.631311: I tensorflow/tsl/cuda/cudart_stub.cc:28] Could not find cuda drivers on your machine, GPU will not be used.\n",
      "2023-07-28 23:59:46.648824: I tensorflow/tsl/cuda/cudart_stub.cc:28] Could not find cuda drivers on your machine, GPU will not be used.\n",
      "2023-07-28 23:59:46.649251: I tensorflow/core/platform/cpu_feature_guard.cc:182] This TensorFlow binary is optimized to use available CPU instructions in performance-critical operations.\n",
      "To enable the following instructions: AVX2 AVX_VNNI FMA, in other operations, rebuild TensorFlow with the appropriate compiler flags.\n",
      "2023-07-28 23:59:47.897945: W tensorflow/compiler/tf2tensorrt/utils/py_utils.cc:38] TF-TRT Warning: Could not find TensorRT\n"
     ]
    }
   ],
   "source": [
    "from keras.models import Sequential\n",
    "from keras.layers import Conv2D, MaxPooling2D, Flatten, Dense, Dropout\n",
    "\n",
    "def create_model(input_shape):\n",
    "    model = Sequential()\n",
    "    model.add(Conv2D(32, (3, 3), activation='relu', input_shape=input_shape))\n",
    "    model.add(MaxPooling2D((2, 2)))\n",
    "    model.add(Conv2D(64, (3, 3), activation='relu'))\n",
    "    model.add(MaxPooling2D((2, 2)))\n",
    "    model.add(Conv2D(64, (3, 3), activation='relu'))\n",
    "    \n",
    "    model.add(Flatten())\n",
    "    model.add(Dense(64, activation='relu'))\n",
    "    model.add(Dropout(0.5))\n",
    "    model.add(Dense(2))  # Two output neurons for two velocities\n",
    "\n",
    "    model.compile(optimizer='adam', loss='mse')  # Use mean squared error as loss function for regression problem\n",
    "\n",
    "    return model\n",
    "\n",
    "# Reshape the train and test data to include the channel dimension\n",
    "X_train = X_train.reshape(X_train.shape[0], 480, 640, 1)\n",
    "X_test = X_test.reshape(X_test.shape[0], 480, 640, 1)\n",
    "\n",
    "model = create_model((480, 640, 1))\n"
   ]
  },
  {
   "cell_type": "code",
   "execution_count": 53,
   "metadata": {},
   "outputs": [
    {
     "ename": "KeyboardInterrupt",
     "evalue": "",
     "output_type": "error",
     "traceback": [
      "\u001b[0;31m---------------------------------------------------------------------------\u001b[0m",
      "\u001b[0;31mKeyboardInterrupt\u001b[0m                         Traceback (most recent call last)",
      "File \u001b[0;32m~/.local/lib/python3.8/site-packages/IPython/core/async_helpers.py:129\u001b[0m, in \u001b[0;36m_pseudo_sync_runner\u001b[0;34m(coro)\u001b[0m\n\u001b[1;32m    121\u001b[0m \u001b[39m\u001b[39m\u001b[39m\"\"\"\u001b[39;00m\n\u001b[1;32m    122\u001b[0m \u001b[39mA runner that does not really allow async execution, and just advance the coroutine.\u001b[39;00m\n\u001b[1;32m    123\u001b[0m \n\u001b[0;32m   (...)\u001b[0m\n\u001b[1;32m    126\u001b[0m \u001b[39mCredit to Nathaniel Smith\u001b[39;00m\n\u001b[1;32m    127\u001b[0m \u001b[39m\"\"\"\u001b[39;00m\n\u001b[1;32m    128\u001b[0m \u001b[39mtry\u001b[39;00m:\n\u001b[0;32m--> 129\u001b[0m     coro\u001b[39m.\u001b[39;49msend(\u001b[39mNone\u001b[39;49;00m)\n\u001b[1;32m    130\u001b[0m \u001b[39mexcept\u001b[39;00m \u001b[39mStopIteration\u001b[39;00m \u001b[39mas\u001b[39;00m exc:\n\u001b[1;32m    131\u001b[0m     \u001b[39mreturn\u001b[39;00m exc\u001b[39m.\u001b[39mvalue\n",
      "File \u001b[0;32m~/.local/lib/python3.8/site-packages/IPython/core/interactiveshell.py:3214\u001b[0m, in \u001b[0;36mInteractiveShell.run_cell_async\u001b[0;34m(self, raw_cell, store_history, silent, shell_futures, transformed_cell, preprocessing_exc_tuple, cell_id)\u001b[0m\n\u001b[1;32m   3212\u001b[0m \u001b[39m# Store raw and processed history\u001b[39;00m\n\u001b[1;32m   3213\u001b[0m \u001b[39mif\u001b[39;00m store_history:\n\u001b[0;32m-> 3214\u001b[0m     \u001b[39mself\u001b[39;49m\u001b[39m.\u001b[39;49mhistory_manager\u001b[39m.\u001b[39;49mstore_inputs(\u001b[39mself\u001b[39;49m\u001b[39m.\u001b[39;49mexecution_count, cell, raw_cell)\n\u001b[1;32m   3215\u001b[0m \u001b[39mif\u001b[39;00m \u001b[39mnot\u001b[39;00m silent:\n\u001b[1;32m   3216\u001b[0m     \u001b[39mself\u001b[39m\u001b[39m.\u001b[39mlogger\u001b[39m.\u001b[39mlog(cell, raw_cell)\n",
      "File \u001b[0;32m~/.local/lib/python3.8/site-packages/IPython/core/history.py:773\u001b[0m, in \u001b[0;36mHistoryManager.store_inputs\u001b[0;34m(self, line_num, source, source_raw)\u001b[0m\n\u001b[1;32m    770\u001b[0m \u001b[39mself\u001b[39m\u001b[39m.\u001b[39minput_hist_parsed\u001b[39m.\u001b[39mappend(source)\n\u001b[1;32m    771\u001b[0m \u001b[39mself\u001b[39m\u001b[39m.\u001b[39minput_hist_raw\u001b[39m.\u001b[39mappend(source_raw)\n\u001b[0;32m--> 773\u001b[0m \u001b[39mwith\u001b[39;00m \u001b[39mself\u001b[39m\u001b[39m.\u001b[39mdb_input_cache_lock:\n\u001b[1;32m    774\u001b[0m     \u001b[39mself\u001b[39m\u001b[39m.\u001b[39mdb_input_cache\u001b[39m.\u001b[39mappend((line_num, source, source_raw))\n\u001b[1;32m    775\u001b[0m     \u001b[39m# Trigger to flush cache and write to DB.\u001b[39;00m\n",
      "\u001b[0;31mKeyboardInterrupt\u001b[0m: "
     ]
    }
   ],
   "source": [
    "from tensorflow.config.experimental import list_physical_devices"
   ]
  },
  {
   "cell_type": "code",
   "execution_count": null,
   "metadata": {},
   "outputs": [
    {
     "ename": "KeyboardInterrupt",
     "evalue": "",
     "output_type": "error",
     "traceback": [
      "\u001b[0;31m---------------------------------------------------------------------------\u001b[0m",
      "\u001b[0;31mKeyboardInterrupt\u001b[0m                         Traceback (most recent call last)",
      "File \u001b[0;32m~/.local/lib/python3.8/site-packages/IPython/core/async_helpers.py:129\u001b[0m, in \u001b[0;36m_pseudo_sync_runner\u001b[0;34m(coro)\u001b[0m\n\u001b[1;32m    121\u001b[0m \u001b[39m\u001b[39m\u001b[39m\"\"\"\u001b[39;00m\n\u001b[1;32m    122\u001b[0m \u001b[39mA runner that does not really allow async execution, and just advance the coroutine.\u001b[39;00m\n\u001b[1;32m    123\u001b[0m \n\u001b[0;32m   (...)\u001b[0m\n\u001b[1;32m    126\u001b[0m \u001b[39mCredit to Nathaniel Smith\u001b[39;00m\n\u001b[1;32m    127\u001b[0m \u001b[39m\"\"\"\u001b[39;00m\n\u001b[1;32m    128\u001b[0m \u001b[39mtry\u001b[39;00m:\n\u001b[0;32m--> 129\u001b[0m     coro\u001b[39m.\u001b[39;49msend(\u001b[39mNone\u001b[39;49;00m)\n\u001b[1;32m    130\u001b[0m \u001b[39mexcept\u001b[39;00m \u001b[39mStopIteration\u001b[39;00m \u001b[39mas\u001b[39;00m exc:\n\u001b[1;32m    131\u001b[0m     \u001b[39mreturn\u001b[39;00m exc\u001b[39m.\u001b[39mvalue\n",
      "File \u001b[0;32m~/.local/lib/python3.8/site-packages/IPython/core/interactiveshell.py:3214\u001b[0m, in \u001b[0;36mInteractiveShell.run_cell_async\u001b[0;34m(self, raw_cell, store_history, silent, shell_futures, transformed_cell, preprocessing_exc_tuple, cell_id)\u001b[0m\n\u001b[1;32m   3212\u001b[0m \u001b[39m# Store raw and processed history\u001b[39;00m\n\u001b[1;32m   3213\u001b[0m \u001b[39mif\u001b[39;00m store_history:\n\u001b[0;32m-> 3214\u001b[0m     \u001b[39mself\u001b[39;49m\u001b[39m.\u001b[39;49mhistory_manager\u001b[39m.\u001b[39;49mstore_inputs(\u001b[39mself\u001b[39;49m\u001b[39m.\u001b[39;49mexecution_count, cell, raw_cell)\n\u001b[1;32m   3215\u001b[0m \u001b[39mif\u001b[39;00m \u001b[39mnot\u001b[39;00m silent:\n\u001b[1;32m   3216\u001b[0m     \u001b[39mself\u001b[39m\u001b[39m.\u001b[39mlogger\u001b[39m.\u001b[39mlog(cell, raw_cell)\n",
      "File \u001b[0;32m~/.local/lib/python3.8/site-packages/IPython/core/history.py:773\u001b[0m, in \u001b[0;36mHistoryManager.store_inputs\u001b[0;34m(self, line_num, source, source_raw)\u001b[0m\n\u001b[1;32m    770\u001b[0m \u001b[39mself\u001b[39m\u001b[39m.\u001b[39minput_hist_parsed\u001b[39m.\u001b[39mappend(source)\n\u001b[1;32m    771\u001b[0m \u001b[39mself\u001b[39m\u001b[39m.\u001b[39minput_hist_raw\u001b[39m.\u001b[39mappend(source_raw)\n\u001b[0;32m--> 773\u001b[0m \u001b[39mwith\u001b[39;00m \u001b[39mself\u001b[39m\u001b[39m.\u001b[39mdb_input_cache_lock:\n\u001b[1;32m    774\u001b[0m     \u001b[39mself\u001b[39m\u001b[39m.\u001b[39mdb_input_cache\u001b[39m.\u001b[39mappend((line_num, source, source_raw))\n\u001b[1;32m    775\u001b[0m     \u001b[39m# Trigger to flush cache and write to DB.\u001b[39;00m\n",
      "\u001b[0;31mKeyboardInterrupt\u001b[0m: "
     ]
    }
   ],
   "source": [
    "print(\"Num GPUs Available: \", len(list_physical_devices('GPU')))"
   ]
  },
  {
   "cell_type": "code",
   "execution_count": 53,
   "metadata": {},
   "outputs": [
    {
     "ename": "KeyboardInterrupt",
     "evalue": "",
     "output_type": "error",
     "traceback": [
      "\u001b[0;31m---------------------------------------------------------------------------\u001b[0m",
      "\u001b[0;31mKeyboardInterrupt\u001b[0m                         Traceback (most recent call last)",
      "File \u001b[0;32m~/.local/lib/python3.8/site-packages/IPython/core/async_helpers.py:129\u001b[0m, in \u001b[0;36m_pseudo_sync_runner\u001b[0;34m(coro)\u001b[0m\n\u001b[1;32m    121\u001b[0m \u001b[39m\u001b[39m\u001b[39m\"\"\"\u001b[39;00m\n\u001b[1;32m    122\u001b[0m \u001b[39mA runner that does not really allow async execution, and just advance the coroutine.\u001b[39;00m\n\u001b[1;32m    123\u001b[0m \n\u001b[0;32m   (...)\u001b[0m\n\u001b[1;32m    126\u001b[0m \u001b[39mCredit to Nathaniel Smith\u001b[39;00m\n\u001b[1;32m    127\u001b[0m \u001b[39m\"\"\"\u001b[39;00m\n\u001b[1;32m    128\u001b[0m \u001b[39mtry\u001b[39;00m:\n\u001b[0;32m--> 129\u001b[0m     coro\u001b[39m.\u001b[39;49msend(\u001b[39mNone\u001b[39;49;00m)\n\u001b[1;32m    130\u001b[0m \u001b[39mexcept\u001b[39;00m \u001b[39mStopIteration\u001b[39;00m \u001b[39mas\u001b[39;00m exc:\n\u001b[1;32m    131\u001b[0m     \u001b[39mreturn\u001b[39;00m exc\u001b[39m.\u001b[39mvalue\n",
      "File \u001b[0;32m~/.local/lib/python3.8/site-packages/IPython/core/interactiveshell.py:3214\u001b[0m, in \u001b[0;36mInteractiveShell.run_cell_async\u001b[0;34m(self, raw_cell, store_history, silent, shell_futures, transformed_cell, preprocessing_exc_tuple, cell_id)\u001b[0m\n\u001b[1;32m   3212\u001b[0m \u001b[39m# Store raw and processed history\u001b[39;00m\n\u001b[1;32m   3213\u001b[0m \u001b[39mif\u001b[39;00m store_history:\n\u001b[0;32m-> 3214\u001b[0m     \u001b[39mself\u001b[39;49m\u001b[39m.\u001b[39;49mhistory_manager\u001b[39m.\u001b[39;49mstore_inputs(\u001b[39mself\u001b[39;49m\u001b[39m.\u001b[39;49mexecution_count, cell, raw_cell)\n\u001b[1;32m   3215\u001b[0m \u001b[39mif\u001b[39;00m \u001b[39mnot\u001b[39;00m silent:\n\u001b[1;32m   3216\u001b[0m     \u001b[39mself\u001b[39m\u001b[39m.\u001b[39mlogger\u001b[39m.\u001b[39mlog(cell, raw_cell)\n",
      "File \u001b[0;32m~/.local/lib/python3.8/site-packages/IPython/core/history.py:773\u001b[0m, in \u001b[0;36mHistoryManager.store_inputs\u001b[0;34m(self, line_num, source, source_raw)\u001b[0m\n\u001b[1;32m    770\u001b[0m \u001b[39mself\u001b[39m\u001b[39m.\u001b[39minput_hist_parsed\u001b[39m.\u001b[39mappend(source)\n\u001b[1;32m    771\u001b[0m \u001b[39mself\u001b[39m\u001b[39m.\u001b[39minput_hist_raw\u001b[39m.\u001b[39mappend(source_raw)\n\u001b[0;32m--> 773\u001b[0m \u001b[39mwith\u001b[39;00m \u001b[39mself\u001b[39m\u001b[39m.\u001b[39mdb_input_cache_lock:\n\u001b[1;32m    774\u001b[0m     \u001b[39mself\u001b[39m\u001b[39m.\u001b[39mdb_input_cache\u001b[39m.\u001b[39mappend((line_num, source, source_raw))\n\u001b[1;32m    775\u001b[0m     \u001b[39m# Trigger to flush cache and write to DB.\u001b[39;00m\n",
      "\u001b[0;31mKeyboardInterrupt\u001b[0m: "
     ]
    }
   ],
   "source": [
    "history = model.fit(X_train, y_train, validation_data=(X_test, y_test), batch_size=32, epochs=10)\n"
   ]
  },
  {
   "cell_type": "code",
   "execution_count": null,
   "metadata": {},
   "outputs": [],
   "source": [
    "loss = model.evaluate(X_test, y_test)\n",
    "print(\"Test loss: \", loss)\n"
   ]
  },
  {
   "cell_type": "code",
   "execution_count": null,
   "metadata": {},
   "outputs": [],
   "source": []
  }
 ],
 "metadata": {
  "kernelspec": {
   "display_name": "Python 3",
   "language": "python",
   "name": "python3"
  },
  "language_info": {
   "codemirror_mode": {
    "name": "ipython",
    "version": 3
   },
   "file_extension": ".py",
   "mimetype": "text/x-python",
   "name": "python",
   "nbconvert_exporter": "python",
   "pygments_lexer": "ipython3",
   "version": "3.8.10"
  },
  "orig_nbformat": 4
 },
 "nbformat": 4,
 "nbformat_minor": 2
}
