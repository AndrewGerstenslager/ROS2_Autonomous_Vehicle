{
 "cells": [
  {
   "cell_type": "code",
   "execution_count": 1,
   "metadata": {},
   "outputs": [],
   "source": [
    "import os\n",
    "import serial\n"
   ]
  },
  {
   "cell_type": "code",
   "execution_count": 3,
   "metadata": {},
   "outputs": [],
   "source": [
    "s = serial.Serial(port='/dev/ttyUSB1', baudrate=115200, timeout=0.1)"
   ]
  },
  {
   "cell_type": "code",
   "execution_count": 8,
   "metadata": {},
   "outputs": [
    {
     "name": "stdout",
     "output_type": "stream",
     "text": [
      "Connected to device 1 on /dev/ttyUSB2\n",
      "Connected to device 2 on /dev/ttyUSB1\n"
     ]
    }
   ],
   "source": [
    "import serial.tools.list_ports\n",
    "\n",
    "# Get a list of all available serial ports\n",
    "available_ports = serial.tools.list_ports.comports()\n",
    "\n",
    "# Define the pattern to search for in the port description\n",
    "pattern = \"Novatel\"\n",
    "\n",
    "# Declare variables to connect to the first two devices with matching descriptions\n",
    "device1 = None\n",
    "device2 = None\n",
    "\n",
    "# Loop through the list of available ports and look for matching descriptions\n",
    "for port in available_ports:\n",
    "    if pattern in port.usb_description():\n",
    "        if device1 is None:\n",
    "            device1 = serial.Serial(port.device)\n",
    "        elif device2 is None:\n",
    "            device2 = serial.Serial(port.device)\n",
    "        if device1 is not None and device2 is not None:\n",
    "            break\n",
    "\n",
    "# Print out the device names (if found)\n",
    "if device1 is not None:\n",
    "    print(\"Connected to Novatel device 1 on\", device1.name)\n",
    "if device2 is not None:\n",
    "    print(\"Connected to Novatel device 2 on\", device2.name)\n"
   ]
  },
  {
   "cell_type": "code",
   "execution_count": 4,
   "metadata": {},
   "outputs": [],
   "source": [
    "def read_port_formatted(port : serial.Serial) -> str:\n",
    "    '''\n",
    "        Reads the serial port for its current value\\n\n",
    "        Additionally removes last escape characters from string\n",
    "    '''\n",
    "    if port is None: raise Exception(\"Port undefined\")\n",
    "    \n",
    "    resp = port.readline().decode('utf-8')\n",
    "    return resp[:len(resp) - 2]\n",
    "\n",
    "\n",
    "def write_without_response(data : str, port : serial.Serial):\n",
    "    '''\n",
    "        Writes a string to the serial port without waiting for response\n",
    "    '''\n",
    "    if port is None: raise Exception(\"Port undefined\")\n",
    "    port.write(data.encode('utf-8'))"
   ]
  },
  {
   "cell_type": "code",
   "execution_count": 6,
   "metadata": {},
   "outputs": [],
   "source": [
    "write_without_response(\"log bestpos ontime 0.25\\r\\n\", port=s)\n"
   ]
  },
  {
   "cell_type": "code",
   "execution_count": 7,
   "metadata": {},
   "outputs": [
    {
     "name": "stdout",
     "output_type": "stream",
     "text": [
      "\n",
      "<OK\n",
      "[USB1]<BESTPOS USB1 0 71.0 UNKNOWN 0 40.500 004c0000 b1f6 14392\n",
      "<     INSUFFICIENT_OBS NONE 0.00000000000 0.00000000000 0.0000 0.0000 WGS84 0.0000 0.0000 0.0000 \"\" 0.000 0.000 0 0 0 0 00 00 00 00\n",
      "[USB1]<BESTPOS USB1 0 81.0 UNKNOWN 0 40.750 004c0000 b1f6 14392\n",
      "<     INSUFFICIENT_OBS NONE 0.00000000000 0.00000000000 0.0000 0.0000 WGS84 0.0000 0.0000 0.0000 \"\" 0.000 0.000 0 0 0 0 00 00 00 00\n",
      "[USB1]<BESTPOS USB1 0 81.0 UNKNOWN 0 41.000 004c0000 b1f6 14392\n",
      "<     INSUFFICIENT_OBS NONE 0.00000000000 0.00000000000 0.0000 0.0000 WGS84 0.0000 0.0000 0.0000 \"\" 0.000 0.000 0 0 0 0 00 00 00 00\n",
      "[USB1]<BESTPOS USB1 0 81.0 UNKNOWN 0 41.250 004c0000 b1f6 14392\n",
      "<     INSUFFICIENT_OBS NONE 0.00000000000 0.00000000000 0.0000 0.0000 WGS84 0.0000 0.0000 0.0000 \"\" 0.000 0.000 0 0 0 0 00 00 00 00\n",
      "[USB\n",
      "\n",
      "<BESTPOS USB1 0 73.5 UNKNOWN 0 41.500 004c0000 b1f6 14392\n",
      "<     INSUFFICIENT_OBS NONE 0.00000000000 0.00000000000 0.0000 0.0000 WGS84 0.0000 0.0000 0.0000 \"\" 0.000 0.000 0 0 0 0 00 00 00 00\n",
      "[USB\n",
      "\n",
      "<BESTPOS USB1 0 73.5 UNKNOWN 0 41.750 004c0000 b1f6 14392\n",
      "<     INSUFFICIENT_OBS NONE 0.00000000000 0.00000000000 0.0000 0.0000 WGS84 0.0000 0.0000 0.0000 \"\" 0.000 0.000 0 0 0 0 00 00 00 00\n",
      "[USB\n",
      "\n",
      "<BESTPOS USB1 0 73.5 UNKNOWN 0 42.000 004c0000 b1f6 14392\n",
      "<     INSUFFICIENT_OBS NONE 0.00000000000 0.00000000000 0.0000 0.0000 WGS84 0.0000 0.0000 0.0000 \"\" 0.000 0.000 0 0 0 0 00 00 00 00\n",
      "[USB\n",
      "\n",
      "<BESTPOS USB1 0 73.5 UNKNOWN 0 42.250 004c0000 b1f6 14392\n",
      "<     INSUFFICIENT_OBS NONE 0.00000000000 0.00000000000 0.0000 0.0000 WGS84 0.0000 0.0000 0.0000 \"\" 0.000 0.000 0 0 0 0 00 00 00 00\n",
      "[USB\n",
      "\n",
      "<BESTPOS USB1 0 71.0 UNKNOWN 0 42.500 004c0000 b1f6 14392\n",
      "<     INSUFFICIENT_OBS NONE 0.00000000000 0.00000000000 0.0000 0.0000 WGS84 0.0000 0.0000 0.0000 \"\" 0.000 0.000 0 0 0 0 00 00 00 00\n",
      "[USB\n",
      "\n",
      "<BESTPOS USB1 0 71.0 UNKNOWN 0 42.750 004c0000 b1f6 14392\n",
      "<     INSUFFICIENT_OBS NONE 0.00000000000 0.00000000000 0.0000 0.0000 WGS84 0.0000 0.0000 0.0000 \"\" 0.000 0.000 0 0 0 0 00 00 00 00\n",
      "[USB\n",
      "\n",
      "<BESTPOS USB1 0 71.0 UNKNOWN 0 43.000 004c0000 b1f6 14392\n",
      "<     INSUFFICIENT_OBS NONE 0.00000000000 0.00000000000 0.0000 0.0000 WGS84 0.0000 0.0000 0.0000 \"\" 0.000 0.000 0 0 0 0 00 00 00 00\n",
      "[USB\n",
      "\n",
      "<BESTPOS USB1 0 71.0 UNKNOWN 0 43.250 004c0000 b1f6 14392\n",
      "<     INSUFFICIENT_OBS NONE 0.00000000000 0.00000000000 0.0000 0.0000 WGS84 0.0000 0.0000 0.0000 \"\" 0.000 0.000 0 0 0 0 00 00 00 00\n",
      "[USB\n",
      "\n",
      "<BESTPOS USB1 0 71.0 UNKNOWN 0 43.500 004c0000 b1f6 14392\n",
      "<     INSUFFICIENT_OBS NONE 0.00000000000 0.00000000000 0.0000 0.0000 WGS84 0.0000 0.0000 0.0000 \"\" 0.000 0.000 0 0 0 0 00 00 00 00\n",
      "[USB\n",
      "\n",
      "<BESTPOS USB1 0 79.0 UNKNOWN 0 43.750 004c0000 b1f6 14392\n",
      "<     INSUFFICIENT_OBS NONE 0.00000000000 0.00000000000 0.0000 0.0000 WGS84 0.0000 0.0000 0.0000 \"\" 0.000 0.000 0 0 0 0 00 00 00 00\n",
      "[USB\n",
      "\n",
      "<BESTPOS USB1 0 79.0 UNKNOWN 0 44.000 004c0000 b1f6 14392\n",
      "<     INSUFFICIENT_OBS NONE 0.00000000000 0.00000000000 0.0000 0.0000 WGS84 0.0000 0.0000 0.0000 \"\" 0.000 0.000 0 0 0 0 00 00 00 00\n",
      "[USB\n",
      "\n",
      "<BESTPOS USB1 0 79.0 UNKNOWN 0 44.250 004c0000 b1f6 14392\n",
      "<     INSUFFICIENT_OBS NONE 0.00000000000 0.00000000000 0.0000 0.0000 WGS84 0.0000 0.0000 0.0000 \"\" 0.000 0.000 0 0 0 0 00 00 00 00\n",
      "[USB\n",
      "\n",
      "<BESTPOS USB1 0 72.0 UNKNOWN 0 44.500 004c0000 b1f6 14392\n",
      "<     INSUFFICIENT_OBS NONE 0.00000000000 0.00000000000 0.0000 0.0000 WGS84 0.0000 0.0000 0.0000 \"\" 0.000 0.000 0 0 0 0 00 00 00 00\n",
      "[USB\n",
      "\n",
      "<BESTPOS USB1 0 72.0 UNKNOWN 0 44.750 004c0000 b1f6 14392\n",
      "<     INSUFFICIENT_OBS NONE 0.00000000000 0.00000000000 0.0000 0.0000 WGS84 0.0000 0.0000 0.0000 \"\" 0.000 0.000 0 0 0 0 00 00 00 00\n",
      "[USB\n",
      "\n",
      "<BESTPOS USB1 0 72.0 UNKNOWN 0 45.000 004c0000 b1f6 14392\n",
      "<     INSUFFICIENT_OBS NONE 0.00000000000 0.00000000000 0.0000 0.0000 WGS84 0.0000 0.0000 0.0000 \"\" 0.000 0.000 0 0 0 0 00 00 00 00\n",
      "[USB\n",
      "\n",
      "<BESTPOS USB1 0 72.0 UNKNOWN 0 45.250 004c0000 b1f6 14392\n",
      "<     INSUFFICIENT_OBS NONE 0.00000000000 0.00000000000 0.0000 0.0000 WGS84 0.0000 0.0000 0.0000 \"\" 0.000 0.000 0 0 0 0 00 00 00 00\n",
      "[USB\n",
      "\n",
      "<BESTPOS USB1 0 72.0 UNKNOWN 0 45.500 004c0000 b1f6 14392\n",
      "<     INSUFFICIENT_OBS NONE 0.00000000000 0.00000000000 0.0000 0.0000 WGS84 0.0000 0.0000 0.0000 \"\" 0.000 0.000 0 0 0 0 00 00 00 00\n",
      "[USB\n",
      "\n",
      "<BESTPOS USB1 0 77.5 UNKNOWN 0 45.750 004c0000 b1f6 14392\n",
      "<     INSUFFICIENT_OBS NONE 0.00000000000 0.00000000000 0.0000 0.0000 WGS84 0.0000 0.0000 0.0000 \"\" 0.000 0.000 0 0 0 0 00 00 00 00\n",
      "[USB\n",
      "\n",
      "<BESTPOS USB1 0 77.5 UNKNOWN 0 46.000 004c0000 b1f6 14392\n",
      "<     INSUFFICIENT_OBS NONE 0.00000000000 0.00000000000 0.0000 0.0000 WGS84 0.0000 0.0000 0.0000 \"\" 0.000 0.000 0 0 0 0 00 00 00 00\n",
      "[USB\n",
      "\n",
      "<BESTPOS USB1 0 77.5 UNKNOWN 0 46.250 004c0000 b1f6 14392\n",
      "<     INSUFFICIENT_OBS NONE 0.00000000000 0.00000000000 0.0000 0.0000 WGS84 0.0000 0.0000 0.0000 \"\" 0.000 0.000 0 0 0 0 00 00 00 00\n",
      "[USB\n",
      "\n",
      "<BESTPOS USB1 0 76.0 UNKNOWN 0 46.500 004c0000 b1f6 14392\n",
      "<     INSUFFICIENT_OBS NONE 0.00000000000 0.00000000000 0.0000 0.0000 WGS84 0.0000 0.0000 0.0000 \"\" 0.000 0.000 0 0 0 0 00 00 00 00\n",
      "[USB\n",
      "\n",
      "<BESTPOS USB1 0 76.0 UNKNOWN 0 46.750 004c0000 b1f6 14392\n",
      "<     INSUFFICIENT_OBS NONE 0.00000000000 0.00000000000 0.0000 0.0000 WGS84 0.0000 0.0000 0.0000 \"\" 0.000 0.000 0 0 0 0 00 00 00 00\n",
      "[USB\n",
      "\n"
     ]
    },
    {
     "ename": "KeyboardInterrupt",
     "evalue": "",
     "output_type": "error",
     "traceback": [
      "\u001b[0;31m---------------------------------------------------------------------------\u001b[0m",
      "\u001b[0;31mKeyboardInterrupt\u001b[0m                         Traceback (most recent call last)",
      "Cell \u001b[0;32mIn[7], line 2\u001b[0m\n\u001b[1;32m      1\u001b[0m \u001b[39mwhile\u001b[39;00m \u001b[39mTrue\u001b[39;00m:\n\u001b[0;32m----> 2\u001b[0m     \u001b[39mprint\u001b[39m(read_port_formatted(s))\n",
      "Cell \u001b[0;32mIn[4], line 8\u001b[0m, in \u001b[0;36mread_port_formatted\u001b[0;34m(port)\u001b[0m\n\u001b[1;32m      2\u001b[0m \u001b[39m'''\u001b[39;00m\n\u001b[1;32m      3\u001b[0m \u001b[39m    Reads the serial port for its current value\\n\u001b[39;00m\n\u001b[1;32m      4\u001b[0m \u001b[39m    Additionally removes last escape characters from string\u001b[39;00m\n\u001b[1;32m      5\u001b[0m \u001b[39m'''\u001b[39;00m\n\u001b[1;32m      6\u001b[0m \u001b[39mif\u001b[39;00m port \u001b[39mis\u001b[39;00m \u001b[39mNone\u001b[39;00m: \u001b[39mraise\u001b[39;00m \u001b[39mException\u001b[39;00m(\u001b[39m\"\u001b[39m\u001b[39mPort undefined\u001b[39m\u001b[39m\"\u001b[39m)\n\u001b[0;32m----> 8\u001b[0m resp \u001b[39m=\u001b[39m port\u001b[39m.\u001b[39;49mreadline()\u001b[39m.\u001b[39mdecode(\u001b[39m'\u001b[39m\u001b[39mutf-8\u001b[39m\u001b[39m'\u001b[39m)\n\u001b[1;32m      9\u001b[0m \u001b[39mreturn\u001b[39;00m resp[:\u001b[39mlen\u001b[39m(resp) \u001b[39m-\u001b[39m \u001b[39m2\u001b[39m]\n",
      "File \u001b[0;32m/usr/lib/python3/dist-packages/serial/serialposix.py:483\u001b[0m, in \u001b[0;36mSerial.read\u001b[0;34m(self, size)\u001b[0m\n\u001b[1;32m    481\u001b[0m \u001b[39mwhile\u001b[39;00m \u001b[39mlen\u001b[39m(read) \u001b[39m<\u001b[39m size:\n\u001b[1;32m    482\u001b[0m     \u001b[39mtry\u001b[39;00m:\n\u001b[0;32m--> 483\u001b[0m         ready, _, _ \u001b[39m=\u001b[39m select\u001b[39m.\u001b[39;49mselect([\u001b[39mself\u001b[39;49m\u001b[39m.\u001b[39;49mfd, \u001b[39mself\u001b[39;49m\u001b[39m.\u001b[39;49mpipe_abort_read_r], [], [], timeout\u001b[39m.\u001b[39;49mtime_left())\n\u001b[1;32m    484\u001b[0m         \u001b[39mif\u001b[39;00m \u001b[39mself\u001b[39m\u001b[39m.\u001b[39mpipe_abort_read_r \u001b[39min\u001b[39;00m ready:\n\u001b[1;32m    485\u001b[0m             os\u001b[39m.\u001b[39mread(\u001b[39mself\u001b[39m\u001b[39m.\u001b[39mpipe_abort_read_r, \u001b[39m1000\u001b[39m)\n",
      "\u001b[0;31mKeyboardInterrupt\u001b[0m: "
     ]
    }
   ],
   "source": [
    "while True:\n",
    "    print(read_port_formatted(s))"
   ]
  },
  {
   "cell_type": "code",
   "execution_count": 8,
   "metadata": {},
   "outputs": [],
   "source": [
    "write_without_response(\"unlogall\\r\\n\", port=s)"
   ]
  },
  {
   "cell_type": "code",
   "execution_count": 16,
   "metadata": {},
   "outputs": [
    {
     "data": {
      "text/plain": [
       "b'[USB1]<BESTPOS USB1 0 68.5 UNKNOWN 0 47.750 004c0000 b1f6 14392\\r\\n<     INSUFFICIENT_OBS NONE 0.00000000000 0.00000000000 0.0000 0.0000 WGS84 0.0000 0.0000 0.0000 \"\" 0.000 0.000 0 0 0 0 00 00 00 00\\r\\n[USB1]<BESTPOS USB1 0 68.5 UNKNOWN 0 48.000 004c0000 b1f6 14392\\r\\n<     INSUFFICIENT_OBS NONE 0.00000000000 0.00000000000 0.0000 0.0000 WGS84 0.0000 0.0000 0.0000 \"\" 0.000 0.000 0 0 0 0 00 00 00 00\\r\\n[USB1]<BESTPOS USB1 0 68.5 UNKNOWN 0 48.250 004c0000 b1f6 14392\\r\\n<     INSUFFICIENT_OBS NONE 0.00000000000 0.00000000000 0.0000 0.0000 WGS84 0.0000 0.0000 0.0000 \"\" 0.000 0.000 0 0 0 0 00 00 00 00\\r\\n[USB1]<BESTPOS USB1 0 68.5 UNKNOWN 0 48.500 004c0000 b1f6 14392\\r\\n<     INSUFFICIENT_OBS NONE 0.00000000000 0.00000000000 0.0000 0.0000 WGS84 0.0000 0.0000 0.0000 \"\" 0.000 0.000 0 0 0 0 00 00 00 00\\r\\n[USB1]<BESTPOS USB1 0 81.5 UNKNOWN 0 48.750 004c0000 b1f6 14392\\r\\n<     INSUFFICIENT_OBS NONE 0.00000000000 0.00000000000 0.0000 0.0000 WGS84 0.0000 0.0000 0.0000 \"\" 0.000 0.000 0 0 0 0 00 00 00 00\\r\\n[USB1]<BESTPOS USB1 0 81.5 UNKNOWN 0 49.000 004c0000 b1f6 14392\\r\\n<     INSUFFICIENT_OBS NONE 0.00000000000 0.00000000000 0.0000 0.0000 WGS84 0.0000 0.0000 0.0000 \"\" 0.000 0.000 0 0 0 0 00 00 00 00\\r\\n[USB1]<BESTPOS USB1 0 81.5 UNKNOWN 0 49.250 004c0000 b1f6 14392\\r\\n<     INSUFFICIENT_OBS NONE 0.00000000000 0.00000000000 0.0000 0.0000 WGS84 0.0000 0.0000 0.0000 \"\" 0.000 0.000 0 0 0 0 00 00 00 00\\r\\n[USB1]<BESTPOS USB1 0 72.0 UNKNOWN 0 49.500 004c0000 b1f6 14392\\r\\n<     INSUFFICIENT_OBS NONE 0.00000000000 0.00000000000 0.0000 0.0000 WGS84 0.0000 0.0000 0.0000 \"\" 0.000 0.000 0 0 0 0 00 00 00 00\\r\\n[USB1]\\r\\n<OK\\r\\n[USB1]'"
      ]
     },
     "execution_count": 16,
     "metadata": {},
     "output_type": "execute_result"
    }
   ],
   "source": [
    "s.readall()"
   ]
  },
  {
   "cell_type": "code",
   "execution_count": 17,
   "metadata": {},
   "outputs": [
    {
     "name": "stdout",
     "output_type": "stream",
     "text": [
      "b''\n"
     ]
    }
   ],
   "source": [
    "print(s.readline())"
   ]
  }
 ],
 "metadata": {
  "kernelspec": {
   "display_name": "Python 3",
   "language": "python",
   "name": "python3"
  },
  "language_info": {
   "codemirror_mode": {
    "name": "ipython",
    "version": 3
   },
   "file_extension": ".py",
   "mimetype": "text/x-python",
   "name": "python",
   "nbconvert_exporter": "python",
   "pygments_lexer": "ipython3",
   "version": "3.8.10"
  },
  "orig_nbformat": 4,
  "vscode": {
   "interpreter": {
    "hash": "31f2aee4e71d21fbe5cf8b01ff0e069b9275f58929596ceb00d14d90e3e16cd6"
   }
  }
 },
 "nbformat": 4,
 "nbformat_minor": 2
}
