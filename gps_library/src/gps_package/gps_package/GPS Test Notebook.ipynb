{
 "cells": [
  {
   "cell_type": "code",
   "execution_count": 1,
   "metadata": {},
   "outputs": [],
   "source": [
    "import os\n",
    "import serial\n",
    "import time"
   ]
  },
  {
   "cell_type": "markdown",
   "metadata": {},
   "source": [
    "s = serial.Serial(port='/dev/ttyUSB1', baudrate=115200, timeout=0.1)"
   ]
  },
  {
   "cell_type": "code",
   "execution_count": 2,
   "metadata": {},
   "outputs": [
    {
     "name": "stdout",
     "output_type": "stream",
     "text": [
      "Connected to Novatel device 1 on /dev/ttyUSB2\n",
      "Connected to Novatel device 2 on /dev/ttyUSB1\n"
     ]
    }
   ],
   "source": [
    "import serial.tools.list_ports\n",
    "\n",
    "# Get a list of all available serial ports\n",
    "available_ports = serial.tools.list_ports.comports()\n",
    "\n",
    "# Define the pattern to search for in the port description\n",
    "pattern = \"Novatel\"\n",
    "\n",
    "# Declare variables to connect to the first two devices with matching descriptions\n",
    "device1 = None\n",
    "device2 = None\n",
    "\n",
    "# Loop through the list of available ports and look for matching descriptions\n",
    "for port in available_ports:\n",
    "    if pattern in port.usb_description():\n",
    "        if device1 is None:\n",
    "            device1 = serial.Serial(port.device)\n",
    "        elif device2 is None:\n",
    "            device2 = serial.Serial(port.device)\n",
    "        if device1 is not None and device2 is not None:\n",
    "            break\n",
    "\n",
    "# Print out the device names (if found)\n",
    "if device1 is not None:\n",
    "    print(\"Connected to Novatel device 1 on\", device1.name)\n",
    "if device2 is not None:\n",
    "    print(\"Connected to Novatel device 2 on\", device2.name)\n"
   ]
  },
  {
   "cell_type": "code",
   "execution_count": 3,
   "metadata": {},
   "outputs": [],
   "source": [
    "def read_port_formatted(port : serial.Serial) -> str:\n",
    "    '''\n",
    "        Reads the serial port for its current value\\n\n",
    "        Additionally removes last escape characters from string\n",
    "    '''\n",
    "    if port is None: raise Exception(\"Port undefined\")\n",
    "    \n",
    "    resp = port.readline().decode('utf-8')\n",
    "    return resp[:len(resp) - 2]\n",
    "\n",
    "\n",
    "def write_without_response(data : str, port : serial.Serial):\n",
    "    '''\n",
    "        Writes a string to the serial port without waiting for response\n",
    "    '''\n",
    "    if port is None: raise Exception(\"Port undefined\")\n",
    "    port.write(data.encode('utf-8'))"
   ]
  },
  {
   "cell_type": "code",
   "execution_count": null,
   "metadata": {},
   "outputs": [],
   "source": [
    "#write_without_response(\"log bestpos ontime 0.25\\r\\n\", port=device1)\n",
    "# write_without_response(\"log heading ontime 0.25\\r\\n\", port=device2)\n",
    "#https://docs.novatel.com/OEM7/Content/Logs/HEADING2.htm?Highlight=heading\n"
   ]
  },
  {
   "cell_type": "code",
   "execution_count": 9,
   "metadata": {},
   "outputs": [],
   "source": [
    "import re\n",
    "\n",
    "def is_valid_decimal(value):\n",
    "    return re.match(r'^-?\\d+(\\.\\d+)?$', value)\n",
    "\n",
    "def read_gps_port(msg):\n",
    "    #data = read_port_formatted(port)\n",
    "    msg_split = msg.split(\" \")\n",
    "\n",
    "    if len(msg_split) < 9 or not (is_valid_decimal(msg_split[7]) and is_valid_decimal(msg_split[8])):\n",
    "        return None\n",
    "\n",
    "    msg_dict = {'longitude': msg_split[8], 'latitude': msg_split[7]}\n",
    "    return msg_dict\n"
   ]
  },
  {
   "cell_type": "code",
   "execution_count": 5,
   "metadata": {},
   "outputs": [],
   "source": [
    "write_without_response(\"log heading2a onchanged\\r\\n\", port=device1)\n",
    "write_without_response(\"log bestpos ontime 0.25\\r\\n\", port=device2)\n"
   ]
  },
  {
   "cell_type": "code",
   "execution_count": 12,
   "metadata": {},
   "outputs": [
    {
     "name": "stdout",
     "output_type": "stream",
     "text": [
      "HEADING: 91.057395935\n",
      "{'longitude': '-84.51691686540', 'latitude': '39.13291013435'}\n",
      "HEADING: 91.231224060\n",
      "None\n",
      "HEADING: 92.337547302\n",
      "{'longitude': '-84.51690826860', 'latitude': '39.13291542736'}\n",
      "HEADING: 90.604362488\n",
      "None\n",
      "HEADING: 90.151351929\n",
      "{'longitude': '-84.51691696550', 'latitude': '39.13291031515'}\n",
      "HEADING: 93.281806946\n",
      "None\n",
      "HEADING: 93.955581665\n",
      "{'longitude': '-84.51691712944', 'latitude': '39.13291039566'}\n",
      "HEADING: 93.625976563\n",
      "None\n",
      "HEADING: 96.708480835\n",
      "{'longitude': '-84.51691709279', 'latitude': '39.13291044261'}\n",
      "HEADING: 95.794250488\n",
      "None\n",
      "HEADING: 91.249893188\n",
      "{'longitude': '-84.51691725331', 'latitude': '39.13291031527'}\n",
      "HEADING: 92.774230957\n",
      "None\n",
      "HEADING: 94.100471497\n",
      "{'longitude': '-84.51691730621', 'latitude': '39.13291037617'}\n",
      "HEADING: 95.095947266\n",
      "None\n",
      "HEADING: 94.545845032\n",
      "{'longitude': '-84.51691050414', 'latitude': '39.13291452690'}\n",
      "HEADING: 93.741874695\n",
      "None\n",
      "HEADING: 95.934425354\n",
      "{'longitude': '-84.51691727688', 'latitude': '39.13291051352'}\n",
      "HEADING: 90.786712646\n",
      "None\n",
      "HEADING: 91.829544067\n",
      "{'longitude': '-84.51691736167', 'latitude': '39.13291040564'}\n",
      "HEADING: 93.991752625\n",
      "None\n",
      "HEADING: 93.846343994\n",
      "{'longitude': '-84.51691743133', 'latitude': '39.13291049886'}\n",
      "HEADING: 95.398742676\n",
      "None\n",
      "HEADING: 93.136009216\n",
      "{'longitude': '-84.51692856177', 'latitude': '39.13290394688'}\n",
      "HEADING: 93.527824402\n",
      "None\n",
      "HEADING: 96.920036316\n",
      "{'longitude': '-84.51691748371', 'latitude': '39.13291063443'}\n",
      "HEADING: 94.479530334\n",
      "None\n",
      "HEADING: 95.663383484\n",
      "{'longitude': '-84.51691748046', 'latitude': '39.13291078691'}\n",
      "HEADING: 94.958076477\n",
      "None\n",
      "HEADING: 93.995559692\n",
      "{'longitude': '-84.51693506775', 'latitude': '39.13290032403'}\n",
      "HEADING: 94.625160217\n",
      "None\n",
      "HEADING: 92.556716919\n",
      "{'longitude': '-84.51691768237', 'latitude': '39.13291077705'}\n",
      "HEADING: 92.689781189\n",
      "None\n",
      "HEADING: 95.901847839\n",
      "{'longitude': '-84.51691765634', 'latitude': '39.13291086820'}\n"
     ]
    },
    {
     "ename": "KeyboardInterrupt",
     "evalue": "",
     "output_type": "error",
     "traceback": [
      "\u001b[0;31m---------------------------------------------------------------------------\u001b[0m",
      "\u001b[0;31mKeyboardInterrupt\u001b[0m                         Traceback (most recent call last)",
      "Cell \u001b[0;32mIn[12], line 3\u001b[0m\n\u001b[1;32m      1\u001b[0m heading \u001b[39m=\u001b[39m \u001b[39m-\u001b[39m\u001b[39m999\u001b[39m\n\u001b[1;32m      2\u001b[0m \u001b[39mwhile\u001b[39;00m \u001b[39mTrue\u001b[39;00m:\n\u001b[0;32m----> 3\u001b[0m     heading2a \u001b[39m=\u001b[39m read_port_formatted(device1)\n\u001b[1;32m      4\u001b[0m     \u001b[39mif\u001b[39;00m heading2a \u001b[39mand\u001b[39;00m \u001b[39m\"\u001b[39m\u001b[39mHEADING2A\u001b[39m\u001b[39m\"\u001b[39m \u001b[39min\u001b[39;00m heading2a:\n\u001b[1;32m      5\u001b[0m         heading \u001b[39m=\u001b[39m heading2a\u001b[39m.\u001b[39msplit(\u001b[39m\"\u001b[39m\u001b[39m,\u001b[39m\u001b[39m\"\u001b[39m)[\u001b[39m12\u001b[39m]\n",
      "Cell \u001b[0;32mIn[3], line 8\u001b[0m, in \u001b[0;36mread_port_formatted\u001b[0;34m(port)\u001b[0m\n\u001b[1;32m      2\u001b[0m \u001b[39m\u001b[39m\u001b[39m'''\u001b[39;00m\n\u001b[1;32m      3\u001b[0m \u001b[39m    Reads the serial port for its current value\\n\u001b[39;00m\n\u001b[1;32m      4\u001b[0m \u001b[39m    Additionally removes last escape characters from string\u001b[39;00m\n\u001b[1;32m      5\u001b[0m \u001b[39m'''\u001b[39;00m\n\u001b[1;32m      6\u001b[0m \u001b[39mif\u001b[39;00m port \u001b[39mis\u001b[39;00m \u001b[39mNone\u001b[39;00m: \u001b[39mraise\u001b[39;00m \u001b[39mException\u001b[39;00m(\u001b[39m\"\u001b[39m\u001b[39mPort undefined\u001b[39m\u001b[39m\"\u001b[39m)\n\u001b[0;32m----> 8\u001b[0m resp \u001b[39m=\u001b[39m port\u001b[39m.\u001b[39;49mreadline()\u001b[39m.\u001b[39mdecode(\u001b[39m'\u001b[39m\u001b[39mutf-8\u001b[39m\u001b[39m'\u001b[39m)\n\u001b[1;32m      9\u001b[0m \u001b[39mreturn\u001b[39;00m resp[:\u001b[39mlen\u001b[39m(resp) \u001b[39m-\u001b[39m \u001b[39m2\u001b[39m]\n",
      "File \u001b[0;32m/usr/lib/python3/dist-packages/serial/serialposix.py:483\u001b[0m, in \u001b[0;36mSerial.read\u001b[0;34m(self, size)\u001b[0m\n\u001b[1;32m    481\u001b[0m \u001b[39mwhile\u001b[39;00m \u001b[39mlen\u001b[39m(read) \u001b[39m<\u001b[39m size:\n\u001b[1;32m    482\u001b[0m     \u001b[39mtry\u001b[39;00m:\n\u001b[0;32m--> 483\u001b[0m         ready, _, _ \u001b[39m=\u001b[39m select\u001b[39m.\u001b[39;49mselect([\u001b[39mself\u001b[39;49m\u001b[39m.\u001b[39;49mfd, \u001b[39mself\u001b[39;49m\u001b[39m.\u001b[39;49mpipe_abort_read_r], [], [], timeout\u001b[39m.\u001b[39;49mtime_left())\n\u001b[1;32m    484\u001b[0m         \u001b[39mif\u001b[39;00m \u001b[39mself\u001b[39m\u001b[39m.\u001b[39mpipe_abort_read_r \u001b[39min\u001b[39;00m ready:\n\u001b[1;32m    485\u001b[0m             os\u001b[39m.\u001b[39mread(\u001b[39mself\u001b[39m\u001b[39m.\u001b[39mpipe_abort_read_r, \u001b[39m1000\u001b[39m)\n",
      "\u001b[0;31mKeyboardInterrupt\u001b[0m: "
     ]
    }
   ],
   "source": [
    "\n",
    "heading = -999\n",
    "while True:\n",
    "    heading2a = read_port_formatted(device1)\n",
    "    if heading2a and \"HEADING2A\" in heading2a:\n",
    "        heading = heading2a.split(\",\")[12]\n",
    "        print(\"HEADING: \" + heading)\n",
    "    position = read_port_formatted(device2)\n",
    "    if position:\n",
    "        print(read_gps_port(position))\n",
    "    \n",
    "    \n",
    "    "
   ]
  },
  {
   "cell_type": "code",
   "execution_count": null,
   "metadata": {},
   "outputs": [],
   "source": [
    "import math\n",
    "\n",
    "def decimal_degrees(degrees_minutes):\n",
    "    degrees = int(degrees_minutes // 100)\n",
    "    minutes = degrees_minutes % 100\n",
    "    return degrees + (minutes / 60)\n",
    "\n",
    "def calculate_bearing(lat1, lon1, lat2, lon2):\n",
    "    lat1, lon1, lat2, lon2 = map(math.radians, [lat1, lon1, lat2, lon2])\n",
    "    dlon = lon2 - lon1\n",
    "\n",
    "    y = math.sin(dlon) * math.cos(lat2)\n",
    "    x = math.cos(lat1) * math.sin(lat2) - math.sin(lat1) * math.cos(lat2) * math.cos(dlon)\n",
    "\n",
    "    bearing = math.atan2(y, x)\n",
    "    bearing = math.degrees(bearing)\n",
    "    bearing = (bearing + 360) % 360\n",
    "    return bearing\n"
   ]
  },
  {
   "cell_type": "code",
   "execution_count": null,
   "metadata": {},
   "outputs": [],
   "source": [
    "lat_old = None\n",
    "lon_old = None\n",
    "while True:\n",
    "    gps_dict1 = read_gps_port(device1)\n",
    "    if gps_dict1:\n",
    "        print(gps_dict1)\n",
    "        lat_new = float(gps_dict1['latitude'])\n",
    "        lon_new = float(gps_dict1['longitude'])\n",
    "\n",
    "        #gps_dict2 = read_gps_port(device2)\n",
    "        #print(\"2\",gps_dict2)\n",
    "        #lat2 = float(gps_dict2['latitude'])\n",
    "        #lon2 = float(gps_dict2['longitude'])\n",
    "        if lat_old and lon_old and lat_new and lon_new:\n",
    "            print(lat_new,lon_new,lat_old,lon_old)\n",
    "            print(calculate_bearing(lat_new,lon_new,lat_old,lon_old))\n",
    "        lat_old = lat_new\n",
    "        lon_old = lon_new"
   ]
  },
  {
   "cell_type": "code",
   "execution_count": null,
   "metadata": {},
   "outputs": [],
   "source": [
    "write_without_response(\"unlogall\\r\\n\", port=device2)\n",
    "write_without_response(\"unlogall\\r\\n\", port=device1)\n",
    "device2.read_all()\n",
    "device1.read_all()"
   ]
  },
  {
   "cell_type": "code",
   "execution_count": null,
   "metadata": {},
   "outputs": [],
   "source": [
    "write_without_response(\"log gpggalong ontime 0.1\\r\\n\", port=device2)\n"
   ]
  },
  {
   "cell_type": "code",
   "execution_count": null,
   "metadata": {},
   "outputs": [],
   "source": [
    "import re\n",
    "\n",
    "def parse_gpgga(sentence):\n",
    "    gpgga_pattern = re.compile(\n",
    "        r\"\\$GPGGA,\\d+\\.\\d+,\"  # Time\n",
    "        r\"(\\d+\\.\\d+),([NS]),\"  # Latitude\n",
    "        r\"(\\d+\\.\\d+),([EW]),\"  # Longitude\n",
    "        r\".*\")  # Rest of the sentence\n",
    "\n",
    "    match = gpgga_pattern.match(sentence)\n",
    "    if not match:\n",
    "        return None\n",
    "\n",
    "    lat, lat_hemi, lon, lon_hemi = match.groups()\n",
    "    lat = float(lat)\n",
    "    lon = float(lon)\n",
    "\n",
    "    lat_deg = decimal_degrees(lat)\n",
    "    lon_deg = decimal_degrees(lon)\n",
    "\n",
    "    if lat_hemi == \"S\":\n",
    "        lat_deg = -lat_deg\n",
    "\n",
    "    if lon_hemi == \"W\":\n",
    "        lon_deg = -lon_deg\n",
    "\n",
    "    return lat_deg, lon_deg\n"
   ]
  },
  {
   "cell_type": "code",
   "execution_count": null,
   "metadata": {},
   "outputs": [],
   "source": [
    "while True:\n",
    "    data1 = read_port_formatted(device2)\n",
    "    lat1, lon1 = parse_gpgga(data1)\n",
    "\n",
    "    data2 = read_port_formatted(device2)\n",
    "    lat2, lon2 = parse_gpgga(data2)\n",
    "\n",
    "    bearing = calculate_bearing(lat1, lon1, lat2, lon2)\n",
    "    print(data1)\n",
    "    print(data2)\n",
    "    print(bearing)\n",
    "    "
   ]
  },
  {
   "cell_type": "code",
   "execution_count": null,
   "metadata": {},
   "outputs": [],
   "source": [
    "while True:\n",
    "    read_port_formatted(device2)"
   ]
  },
  {
   "cell_type": "code",
   "execution_count": null,
   "metadata": {},
   "outputs": [],
   "source": []
  }
 ],
 "metadata": {
  "kernelspec": {
   "display_name": "Python 3",
   "language": "python",
   "name": "python3"
  },
  "language_info": {
   "codemirror_mode": {
    "name": "ipython",
    "version": 3
   },
   "file_extension": ".py",
   "mimetype": "text/x-python",
   "name": "python",
   "nbconvert_exporter": "python",
   "pygments_lexer": "ipython3",
   "version": "3.8.10"
  },
  "orig_nbformat": 4,
  "vscode": {
   "interpreter": {
    "hash": "31f2aee4e71d21fbe5cf8b01ff0e069b9275f58929596ceb00d14d90e3e16cd6"
   }
  }
 },
 "nbformat": 4,
 "nbformat_minor": 2
}
